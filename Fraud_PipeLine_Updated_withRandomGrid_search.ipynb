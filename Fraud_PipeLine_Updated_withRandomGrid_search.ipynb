{
  "nbformat": 4,
  "nbformat_minor": 0,
  "metadata": {
    "kernelspec": {
      "display_name": "Python 3",
      "language": "python",
      "name": "python3"
    },
    "language_info": {
      "codemirror_mode": {
        "name": "ipython",
        "version": 3
      },
      "file_extension": ".py",
      "mimetype": "text/x-python",
      "name": "python",
      "nbconvert_exporter": "python",
      "pygments_lexer": "ipython3",
      "version": "3.8.3"
    },
    "colab": {
      "name": "Fraud PipeLine_Updated.ipynb",
      "provenance": [],
      "collapsed_sections": [
        "sW8og0XT8xRH",
        "snzPuX-v8xRW",
        "7Kfsnshn8xRZ",
        "D_Kh4H298xRd",
        "U_B8oh_08xR4",
        "aFongW018xSS",
        "7pC-wijJ8xS0",
        "EeZKco_w8xTm",
        "hAT_dwTW8xT5",
        "lVzkZnEX8xUC",
        "-GarHDwO8xUZ",
        "HLMGLzSh8xUp"
      ]
    }
  },
  "cells": [
    {
      "cell_type": "markdown",
      "metadata": {
        "collapsed": true,
        "id": "JW00EUGI8xQX",
        "colab_type": "text"
      },
      "source": [
        "## Fraud Prediction"
      ]
    },
    {
      "cell_type": "markdown",
      "metadata": {
        "id": "XG-yOmkX8xQZ",
        "colab_type": "text"
      },
      "source": [
        "### Load Libraries\n",
        "    * Libraries for data preparation\n",
        "    * Fast ML Libraries for data imputation and encoding\n",
        "        - for installing fast-ml use command \"pip install fast-ml\" in command prompt\n",
        "    * sklearn libraries for modelling, confusion matrix and prediction\n",
        "    "
      ]
    },
    {
      "cell_type": "code",
      "metadata": {
        "id": "dlJHtt_25eyY",
        "colab_type": "code",
        "colab": {
          "base_uri": "https://localhost:8080/",
          "height": 85
        },
        "outputId": "5a39bf5a-92d6-499b-a0af-cecf87b25178"
      },
      "source": [
        "!pip install fast_ml --upgrade"
      ],
      "execution_count": 1,
      "outputs": [
        {
          "output_type": "stream",
          "text": [
            "Collecting fast_ml\n",
            "  Downloading https://files.pythonhosted.org/packages/12/eb/7d85fa1aa2db3b9932f07dfc0207099cf18e1c0ae3190d5386e2e61dff95/fast_ml-3.12-py3-none-any.whl\n",
            "Installing collected packages: fast-ml\n",
            "Successfully installed fast-ml-3.12\n"
          ],
          "name": "stdout"
        }
      ]
    },
    {
      "cell_type": "code",
      "metadata": {
        "id": "ufSq0Kf28xQa",
        "colab_type": "code",
        "colab": {}
      },
      "source": [
        "#Import os, pandas and numpy\n",
        "import os\n",
        "import pandas as pd\n",
        "import numpy as np\n",
        "import matplotlib.pyplot as plt\n",
        "import random\n",
        "from lightgbm import LGBMClassifier\n",
        "import datetime"
      ],
      "execution_count": 2,
      "outputs": []
    },
    {
      "cell_type": "code",
      "metadata": {
        "id": "x1obC8Jy8xQe",
        "colab_type": "code",
        "colab": {
          "base_uri": "https://localhost:8080/",
          "height": 71
        },
        "outputId": "cd23c66f-0c0b-43b2-ac87-931a61b5307a"
      },
      "source": [
        "from fast_ml.eda import categorical_plots,numerical_plots\n",
        "from fast_ml.missing_data_analysis import MissingDataAnalysis\n",
        "from fast_ml.missing_data_imputation import MissingDataImputer_Categorical, MissingDataImputer_Numerical\n",
        "from fast_ml.utilities import rare_encoding\n",
        "from fast_ml.feature_engineering import FeatureEngineering_Categorical,FeatureEngineering_Numerical\n",
        "from fast_ml.utilities import reduce_memory_usage\n",
        "from fast_ml.eda import categorical_plots,numerical_plots,categorical_plots_with_target,numerical_plots_with_target,numerical_bins_with_target\n"
      ],
      "execution_count": 3,
      "outputs": [
        {
          "output_type": "stream",
          "text": [
            "/usr/local/lib/python3.6/dist-packages/statsmodels/tools/_testing.py:19: FutureWarning: pandas.util.testing is deprecated. Use the functions in the public API at pandas.testing instead.\n",
            "  import pandas.util.testing as tm\n"
          ],
          "name": "stderr"
        }
      ]
    },
    {
      "cell_type": "code",
      "metadata": {
        "id": "CryL1_0I8xQi",
        "colab_type": "code",
        "colab": {}
      },
      "source": [
        "# Python script for confusion matrix creation. \n",
        "from sklearn.metrics import confusion_matrix \n",
        "from sklearn.metrics import accuracy_score \n",
        "from sklearn.metrics import classification_report"
      ],
      "execution_count": 4,
      "outputs": []
    },
    {
      "cell_type": "markdown",
      "metadata": {
        "id": "nDDAAoW88xQl",
        "colab_type": "text"
      },
      "source": [
        "#### Functions\n",
        "\n",
        "* \"compare_Numerical_distribution\" function to compare distribution of numerical data before and after imputation\n",
        "* \"clustercheck\" to check if the set of variables belong to the same cluster.\n",
        "* \"Browser_transform\",\"OS_transform\" and \"Mail_transform\" to normalize the observation in variables,"
      ]
    },
    {
      "cell_type": "code",
      "metadata": {
        "id": "FDZc8umb8xQl",
        "colab_type": "code",
        "colab": {}
      },
      "source": [
        "\n",
        "def compare_Numerical_distribution(df1,df2,variables):\n",
        "    df = pd.DataFrame()\n",
        "    msg_value = []\n",
        "    data = []\n",
        "    for a in variables:\n",
        "        df_mean = df1[a].mean() - df2[a].mean()\n",
        "        df_std = df1[a].std() - df2[a].std()\n",
        "        if int(df_mean) == 0:\n",
        "            msg_mean = \"Mean of both the dataset is same\" #+ str(df1[a].mean()) + str(df2[a].mean()) \n",
        "        else:\n",
        "            msg_mean = \"Mean of both the dataset differ by \" + str(df_mean)\n",
        "        if int(df_std) == 0:\n",
        "            msg_std = \"Standard Dev. of both the dataset is same\"\n",
        "        else:\n",
        "            msg_std = \"Standard Dev the dataset differ by \" + str(df_std) \n",
        "            \n",
        "        if int(df_mean) == 0 and int(df_std) ==0:\n",
        "            msg_Remark = \"Distribution for dataset is same\"\n",
        "            \n",
        "        else:\n",
        "            msg_Remark = \"Distribution for dataset is different\"\n",
        "            \n",
        "        msg_value = [a,msg_mean,msg_std,msg_Remark] \n",
        "        zipped  = zip([\"Variable\",\"Mean\",\"Stdev\",\"Remark\"],msg_value)\n",
        "        a_dict = dict(zipped)\n",
        "        data.append(a_dict)\n",
        "    df= df.append(data,True)\n",
        "    return(df)\n",
        "\n",
        "\n",
        "def clustercheck(df,base,cluster):\n",
        "    nullcount = df[base].isnull().sum()\n",
        "    LiTrue = []\n",
        "    LiFalse = []\n",
        "    for a in cluster:\n",
        "        if df[a].isnull().sum() == nullcount:\n",
        "            LiTrue.append(a)\n",
        "        else:\n",
        "            LiFalse.append(a)\n",
        "\n",
        "    print(\"List of elements having same missing value is\", LiTrue)\n",
        "    print(\"List of elements having different missing value is\", LiFalse)\n",
        "    \n",
        "def Browser_transform(df,col):\n",
        "    df.loc[df[col].str.contains('chrome', na=False), col] = 'Chrome'\n",
        "    df.loc[df[col].str.contains('firefox', na=False), col] = 'Firefox'\n",
        "    df.loc[df[col].str.contains('safari', na=False), col] = 'Safari'\n",
        "    df.loc[df[col].str.contains('edge', na=False), col] = 'Edge'\n",
        "    df.loc[df[col].str.contains('ie', na=False), col] = 'IE'\n",
        "    df.loc[df[col].str.contains('samsung', na=False), col] = 'Samsung'\n",
        "    df.loc[df[col].str.contains('opera', na=False), col] = 'Opera'\n",
        "    #df.loc[df[col].str.contains('Others', na=False), col] = 'other'\n",
        "    df[col].fillna(\"Missing\", inplace=True)\n",
        "    df.loc[df.id_31.isin(df.id_31.value_counts()[df.id_31.value_counts() < 200].index), col] = \"other\"\n",
        "    \n",
        "def OS_transform(df,col):\n",
        "    df.loc[df[col].str.contains('Windows', na=False), col] = 'Windows'\n",
        "    df.loc[df[col].str.contains('iOS', na=False), col] = 'iOS'\n",
        "    df.loc[df[col].str.contains('Mac OS', na=False), col] = 'Mac'\n",
        "    df.loc[df[col].str.contains('Android', na=False), col] = 'Android'\n",
        "    df[col].fillna(\"Missing\", inplace=True)\n",
        "    \n",
        "def Mail_transform(df,col):\n",
        "    df.loc[df[col].str.contains('gmail', na=False), col] = 'gmail.com'\n",
        "    df.loc[df[col].str.contains('yahoo', na=False), col] = 'yahoo.com'\n",
        "    df.loc[df[col].str.contains('outlook', na=False), col] = 'outlook.com'\n",
        "    df.loc[df[col].str.contains('hotmail', na=False), col] = 'hotmail.com'\n",
        "    df[col].fillna(\"Missing\", inplace=True)\n",
        "    \n",
        "def Remove_dup(x):\n",
        "    return list(dict.fromkeys(x))\n",
        "\n",
        "    #return df   \n"
      ],
      "execution_count": 5,
      "outputs": []
    },
    {
      "cell_type": "markdown",
      "metadata": {
        "collapsed": true,
        "id": "wdU6Wt8g8xQq",
        "colab_type": "text"
      },
      "source": [
        "### Import Data"
      ]
    },
    {
      "cell_type": "code",
      "metadata": {
        "id": "IRs53v5E5esB",
        "colab_type": "code",
        "colab": {
          "base_uri": "https://localhost:8080/",
          "height": 34
        },
        "outputId": "9a4d77dc-0a5b-439d-992a-c31e9c415ec8"
      },
      "source": [
        "from google.colab import drive \n",
        "drive.mount('/content/gdrive')"
      ],
      "execution_count": 6,
      "outputs": [
        {
          "output_type": "stream",
          "text": [
            "Mounted at /content/gdrive\n"
          ],
          "name": "stdout"
        }
      ]
    },
    {
      "cell_type": "code",
      "metadata": {
        "id": "CpD4xq6w8xQr",
        "colab_type": "code",
        "colab": {}
      },
      "source": [
        "n = 590540 #number of records in file\n",
        "s = 50000 #desired sample size\n",
        "filename = \"/content/gdrive/My Drive/Colab Notebooks/fraud/train_transaction.csv\"\n",
        "skip = sorted(random.sample(range(n),n-s))\n",
        "train = pd.read_csv(filename, skiprows=skip[1:])\n",
        "#train_transaction =  pd.read_csv(\"\")\n",
        "#train_identity = pd.read_csv(\"D:\\\\Kaggle\\\\Fraud_Detection\\\\train_identity.csv\")\n",
        "#train = pd.merge(train_transaction, train_identity, on='TransactionID', how='left')"
      ],
      "execution_count": 7,
      "outputs": []
    },
    {
      "cell_type": "code",
      "metadata": {
        "id": "yLMfQPOE8xQu",
        "colab_type": "code",
        "colab": {
          "base_uri": "https://localhost:8080/",
          "height": 68
        },
        "outputId": "d2539095-48d2-4399-e214-b94008980803"
      },
      "source": [
        "train = reduce_memory_usage(train, convert_to_category=False)"
      ],
      "execution_count": 8,
      "outputs": [
        {
          "output_type": "stream",
          "text": [
            "Memory usage of dataframe is 150.30 MB\n",
            "Memory usage after optimization is: 44.11 MB\n",
            "Decreased by 70.7%\n"
          ],
          "name": "stdout"
        }
      ]
    },
    {
      "cell_type": "markdown",
      "metadata": {
        "id": "OSPSXE0N8xQz",
        "colab_type": "text"
      },
      "source": [
        "## Test Train Split\n",
        "\n",
        "* Create Test, Train and Validate DataSet"
      ]
    },
    {
      "cell_type": "code",
      "metadata": {
        "id": "u23IuwMr8xQ0",
        "colab_type": "code",
        "colab": {}
      },
      "source": [
        "y = train['isFraud']\n",
        "x_train = train.drop('isFraud', axis =1)\n",
        "from sklearn.model_selection import train_test_split\n",
        "X_train, x_valid, Y_train, y_valid = train_test_split(x_train, y, test_size=0.2, random_state=0)\n",
        "#from sklearn.model_selection import train_test_split\n",
        "x_train, X_test, y_train, y_test = train_test_split(X_train, Y_train, test_size=0.2, random_state=0)"
      ],
      "execution_count": 9,
      "outputs": []
    },
    {
      "cell_type": "code",
      "metadata": {
        "id": "JZYRAkMM8xQ4",
        "colab_type": "code",
        "colab": {}
      },
      "source": [
        "#from sklearn.model_selection import train_test_split\n",
        "x_train, X_test, y_train, y_test = train_test_split(X_train, Y_train, test_size=0.2, random_state=0)"
      ],
      "execution_count": 10,
      "outputs": []
    },
    {
      "cell_type": "code",
      "metadata": {
        "id": "9sPy0KDr8xQ9",
        "colab_type": "code",
        "colab": {
          "base_uri": "https://localhost:8080/",
          "height": 34
        },
        "outputId": "983a7b36-90cf-4e10-dc7d-087adefda769"
      },
      "source": [
        "x_train.shape,y_train.shape"
      ],
      "execution_count": 11,
      "outputs": [
        {
          "output_type": "execute_result",
          "data": {
            "text/plain": [
              "((32000, 393), (32000,))"
            ]
          },
          "metadata": {
            "tags": []
          },
          "execution_count": 11
        }
      ]
    },
    {
      "cell_type": "code",
      "metadata": {
        "id": "ja8-DJxI8xRA",
        "colab_type": "code",
        "colab": {
          "base_uri": "https://localhost:8080/",
          "height": 34
        },
        "outputId": "af8c2057-94ef-4348-ac3f-17d3c7a8bc90"
      },
      "source": [
        "X_test.shape,y_test.shape"
      ],
      "execution_count": 12,
      "outputs": [
        {
          "output_type": "execute_result",
          "data": {
            "text/plain": [
              "((8000, 393), (8000,))"
            ]
          },
          "metadata": {
            "tags": []
          },
          "execution_count": 12
        }
      ]
    },
    {
      "cell_type": "code",
      "metadata": {
        "id": "YdItLTFE8xRD",
        "colab_type": "code",
        "colab": {
          "base_uri": "https://localhost:8080/",
          "height": 34
        },
        "outputId": "8bb045f5-bac6-450a-d1f3-12ac1b20e8b5"
      },
      "source": [
        "x_valid.shape,y_valid.shape"
      ],
      "execution_count": 13,
      "outputs": [
        {
          "output_type": "execute_result",
          "data": {
            "text/plain": [
              "((10001, 393), (10001,))"
            ]
          },
          "metadata": {
            "tags": []
          },
          "execution_count": 13
        }
      ]
    },
    {
      "cell_type": "markdown",
      "metadata": {
        "id": "sW8og0XT8xRH",
        "colab_type": "text"
      },
      "source": [
        "#####  Identify variables Based on EDA performed"
      ]
    },
    {
      "cell_type": "code",
      "metadata": {
        "id": "3OUPsnd48xRI",
        "colab_type": "code",
        "colab": {}
      },
      "source": [
        "Rare_2 =['P_emaildomain']\n",
        "Rare_4 =['R_emaildomain']\n",
        "#'D5' : [0,30,40,50,60,70,80,90,100],\n",
        "Custom_Bin ={\n",
        "'TransactionAmt' : [0,10,20,40,50,60,70,90,100],\n",
        "'C1' : [0,50,70,80,90,100],\n",
        "'C2' : [0,50,70,80,90,100],\n",
        "'C4' : [0,70,90,100],\n",
        "'C5' : [0,60,80,90,100],\n",
        "'C6' : [0,60,80,90,100],\n",
        "'C7' : [0,80,90,100],\n",
        "'C8' : [0,70,90,100],\n",
        "'C9' : [0,60,80,90,100],\n",
        "'C10' : [0,70,90,100],\n",
        "'C11' : [0,60,80,90,100],\n",
        "'C12' : [0,80,90,100],\n",
        "'C13' : [0,10,50,60,70,80,90,100],\n",
        "'C14' : [0,80,90,100],\n",
        "'D1' : [0,50,60,70,80,90,100],\n",
        "'addr1' : [0,90,100],\n",
        "'D10' : [0,50,60,70,80,90,100],\n",
        "'D15' : [0,30,40,50,60,70,80,90,100],\n",
        "'D4' : [0,10,50,60,70,80,90,100],\n",
        "'D3' : [0,30,40,50,60,100],\n",
        "'D2' : [0,10,20,30,40,50,60,70,100],\n",
        "'D11' : [0,40,50,60,70,80,90,100],\n",
        "'D6' : [0,70,80,90,100],\n",
        "'D12' : [0,70,80,90,100],\n",
        "'D14' : [0,70,80,90,100],\n",
        "'D13' : [0,90,100],\n",
        "'D7' : [0,60,90,100],'V330': [0, 90, 100],'V329': [0, 90, 100],'V326': [0, 90, 100],'V334': [0, 98, 100],\n",
        "'V337': [0, 95, 100],'V339': [0, 90, 100],\t'V336': [0, 95, 100],\t'V338': [0, 90, 100],\t'V322': [0, 95, 100],\n",
        "             'V324': [0, 80, 100],\t'V323': [0, 90, 100],\t'V335': [0, 90, 100],\t'V331': [0, 90, 100],\n",
        "             'V333': [0, 80, 100],\t'V332': [0, 80, 100],\t'V311': [0, 98, 100],\t'V319': [0, 98, 100],\n",
        "             'V321': [0, 95, 100],\t'V309': [0, 95, 100],\t'V320': [0, 95, 100],\t'V316': [0, 95, 100],\n",
        "             'V313': [0, 90, 100],\t'V318': [0, 95, 100],\t'V315': [0, 90, 100],\t'V312': [0, 80, 90, 100],\n",
        "             'V317': [0, 90, 100],\t'V306': [0, 90, 100],\t'V314': [0, 90, 100],\t'V308': [0, 80, 100],\n",
        "             'V310': [0, 70, 80, 90, 100],'V307': [0, 60, 80, 100]}\n",
        "\n"
      ],
      "execution_count": 14,
      "outputs": []
    },
    {
      "cell_type": "code",
      "metadata": {
        "id": "5qJ0jbUz8xRK",
        "colab_type": "code",
        "colab": {}
      },
      "source": [
        "Adaptive_10p = ['card1' ,'card3','card5' ,'card2' ,'dist1' ,'D8','dist2','V225',\t'V193',\t'V190',\t'V170',\t'V237',\n",
        "                'V176',\t'V192',\t'V199',\t'V261',\t'V171',\t'V243',\t'V254',\t'V236',\t'V246',\t'V255',\t'V256',\t'V257',\t'V227',\n",
        "                'V299',\t'V151',\t'V182',\t'V228',\t'V201',\t'V245',\t'V290',\t'V283',\t'V144',\t'V180',\t'V230',\t'V253',\t'V258',\n",
        "                'V259',\t'V222',\t'V221',\t'V224',\t'V226',\t'V229',\t'V296',\t'V298',\t'V285',\t'V187',\t'V234',\t'V269',\t'V292',\t\n",
        "                'V291',\t'V145',\t'V177',\t'V167',\t'V143',\t'V179',\t'V168',\t'V178',\t'V231',\t'V217',\t'V233',\t'V232',\t'V219',\n",
        "                'V218',\t'V166',\t'V164',\t'V129',\t'V293',\t'V279',\t'V295',\t'V165',\t'V280',\t'V150',\t'V135',\t'V294',\t'V137',\n",
        "                'V206',\t'V159',\t'V136',\t'V266',\t'V131',\t'V205',\t'V132',\t'V270',\t'V160',\t'V272',\t'V208',\t'V210',\t'V276',\n",
        "                'V214',\t'V268',\t'V271',\t'V278',\t'V134',\t'V216',\t'V277',\t'V209',\t'V207',\t'V215',\t'V267',\t'V126',\t'V133',\n",
        "                'V128',\t'V273',\t'V275',\t'V130',\t'V211',\t'V127',\t'V274',\t'V213',\t'V212',\t'V263',\t'V202',\t'V265',\t'V204',\n",
        "                'V264',\t'V203']\n",
        "Adaptive_5p = ['V200',\t'V106',\t'V105',\t'V161',\t'V163',\t'V162',\t'V101',\t'V103',\t'V102']\n"
      ],
      "execution_count": 15,
      "outputs": []
    },
    {
      "cell_type": "code",
      "metadata": {
        "id": "IDnE87Gx8xRQ",
        "colab_type": "code",
        "colab": {}
      },
      "source": [
        "Rare_5 = ['ProductCD',\t'card4',\t'card6',\t'addr2',\t'M6',\t'M1',\t'M2',\t'M3',\t'M4',\t'M7',\t'M8',\t'M9',\t'M5',\t'D9',\n",
        "'V9',\t'V8',\t'V5',\t'V4',\t'V3',\t'V2',\t'V11',\t'V10',\t'V50',\t'V49',\t'V48',\t'V42',\t'V41',\t'V40',\t'V36',\t'V35',\t'V94',\t'V93',\n",
        "          'V92',\t'V91',\t'V90',\t'V89',\t'V88',\t'V87',\t'V86',\t'V85',\t'V84',\t'V83',\t'V82',\t'V81',\t'V80',\t'V79',\t'V77',\t'V74',\t'V73',\n",
        "          'V72',\t'V71',\t'V70',\t'V69',\t'V68',\t'V67',\t'V65',\t'V64',\t'V63',\t'V62',\t'V60',\t'V59',\t'V58',\t'V57',\t'V55',\t'V53',\t'V34',\n",
        "          'V33',\t'V32',\t'V31',\t'V30',\t'V29',\t'V28',\t'V27',\t'V26',\t'V25',\t'V24',\t'V22',\t'V21',\t'V19',\t'V18',\t'V17',\t'V16',\t'V15',\n",
        "          'V14',\t'V13',\t'V12',\t'V98','V141',\t'V173',\t'V325',\t'V142',\t'V174',\t'V194',\t'V197',\t'V301',\t'V153',\t'V302',\t'V304',\t'V148',\t'V154',\n",
        "          'V155',\t'V157',\t'V175',\t'V184',\t'V123',\t'V195',\t'V303',\t'V138',\t'V328',\t'V146',\t'V156',\t'V327',\t'V158',\t'V198',\t'V147',\t'V185',\t'V181',\n",
        "          'V169',\t'V188']\n",
        "Rare_10 = ['V107',\t'V117',\t'V118',\t'V119',\t'V120',\t'V121',\t'V122',\t'V108',\t'V109',\t'V110',\t'V111',\t'V112',\t'V113',\t'V114',\t'V115',\t'V116',\t'V124',\n",
        "           'V125',\t'V104']\n"
      ],
      "execution_count": 16,
      "outputs": []
    },
    {
      "cell_type": "code",
      "metadata": {
        "id": "wCUzxByT8xRT",
        "colab_type": "code",
        "colab": {}
      },
      "source": [
        "# Variable to drop\n",
        "Var_to_Drop = ['C3','TransactionID','TransactionDT']"
      ],
      "execution_count": 17,
      "outputs": []
    },
    {
      "cell_type": "markdown",
      "metadata": {
        "id": "snzPuX-v8xRW",
        "colab_type": "text"
      },
      "source": [
        "##### Drop unwanted Variables"
      ]
    },
    {
      "cell_type": "code",
      "metadata": {
        "id": "UTeiBCs18xRX",
        "colab_type": "code",
        "colab": {}
      },
      "source": [
        "x_train = x_train.drop(Var_to_Drop,axis=1)\n",
        "x_valid = x_valid.drop(Var_to_Drop,axis=1)"
      ],
      "execution_count": 18,
      "outputs": []
    },
    {
      "cell_type": "markdown",
      "metadata": {
        "id": "7Kfsnshn8xRZ",
        "colab_type": "text"
      },
      "source": [
        "##### Feature engineering to string variables"
      ]
    },
    {
      "cell_type": "code",
      "metadata": {
        "id": "71cgWt5m8xRa",
        "colab_type": "code",
        "colab": {}
      },
      "source": [
        "#Browser_transform(x_train,'id_31')\n",
        "#OS_transform(x_train,'id_30')\n",
        "Mail_transform(x_train,'P_emaildomain')\n",
        "Mail_transform(x_train,'R_emaildomain')\n",
        "\n",
        "#Browser_transform(x_valid,'id_31')\n",
        "#OS_transform(x_valid,'id_30')\n",
        "Mail_transform(x_valid,'P_emaildomain')\n",
        "Mail_transform(x_valid,'R_emaildomain')"
      ],
      "execution_count": 19,
      "outputs": []
    },
    {
      "cell_type": "markdown",
      "metadata": {
        "id": "D_Kh4H298xRd",
        "colab_type": "text"
      },
      "source": [
        "### Rare Encoding"
      ]
    },
    {
      "cell_type": "code",
      "metadata": {
        "id": "OY1cqmK_8xRe",
        "colab_type": "code",
        "colab": {}
      },
      "source": [
        ""
      ],
      "execution_count": 19,
      "outputs": []
    },
    {
      "cell_type": "code",
      "metadata": {
        "id": "orOWnfJn8xRh",
        "colab_type": "code",
        "colab": {}
      },
      "source": [
        "rare_encoder2 = FeatureEngineering_Categorical( method='rare')\n",
        "rare_encoder2.fit(x_train, Rare_2, target=None, rare_tol=2)\n",
        "x_train = rare_encoder2.transform(x_train)\n",
        "x_valid = rare_encoder2.transform(x_valid)"
      ],
      "execution_count": 20,
      "outputs": []
    },
    {
      "cell_type": "code",
      "metadata": {
        "id": "jrwJ4DhM8xRl",
        "colab_type": "code",
        "colab": {}
      },
      "source": [
        "rare_encoder3 = FeatureEngineering_Categorical( method='rare')\n",
        "rare_encoder3.fit(x_train, Rare_4, target=None, rare_tol=4)\n",
        "x_train = rare_encoder3.transform(x_train)\n",
        "x_valid = rare_encoder3.transform(x_valid)"
      ],
      "execution_count": 21,
      "outputs": []
    },
    {
      "cell_type": "code",
      "metadata": {
        "id": "zW1ZWIkU8xRo",
        "colab_type": "code",
        "colab": {}
      },
      "source": [
        "rare_encoder4 = FeatureEngineering_Categorical( method='rare')\n",
        "rare_encoder4.fit(x_train, Rare_5, target=None, rare_tol=5)\n",
        "x_train = rare_encoder4.transform(x_train)\n",
        "x_valid = rare_encoder4.transform(x_valid)"
      ],
      "execution_count": 22,
      "outputs": []
    },
    {
      "cell_type": "code",
      "metadata": {
        "id": "iMuIN03h8xRr",
        "colab_type": "code",
        "colab": {}
      },
      "source": [
        "rare_encoder5 = FeatureEngineering_Categorical( method='rare')\n",
        "rare_encoder5.fit(x_train, Rare_10, target=None, rare_tol=10)\n",
        "x_train = rare_encoder5.transform(x_train)\n",
        "x_valid = rare_encoder5.transform(x_valid)"
      ],
      "execution_count": 23,
      "outputs": []
    },
    {
      "cell_type": "markdown",
      "metadata": {
        "id": "U_B8oh_08xR4",
        "colab_type": "text"
      },
      "source": [
        "### Binning"
      ]
    },
    {
      "cell_type": "code",
      "metadata": {
        "id": "2Jjykdoo8xR5",
        "colab_type": "code",
        "colab": {}
      },
      "source": [
        ""
      ],
      "execution_count": 23,
      "outputs": []
    },
    {
      "cell_type": "code",
      "metadata": {
        "id": "jqix7cLo8xR9",
        "colab_type": "code",
        "colab": {}
      },
      "source": [
        "### ADAPTIVE 10 PERCENTILE BINNING \n",
        "\n",
        "from fast_ml.feature_engineering import FeatureEngineering_Numerical\n",
        "num_binner = FeatureEngineering_Numerical(method = '10p', adaptive = True)\n",
        "num_binner.fit(x_train, Adaptive_10p)\n",
        "x_train = num_binner.transform(x_train)\n",
        "x_valid = num_binner.transform(x_valid)"
      ],
      "execution_count": 24,
      "outputs": []
    },
    {
      "cell_type": "code",
      "metadata": {
        "id": "4h9wj2Rs8xR_",
        "colab_type": "code",
        "colab": {}
      },
      "source": [
        "### ADAPTIVE 5 PERCENTILE BINNING \n",
        "num_binner2 = FeatureEngineering_Numerical(method = '5p', adaptive = True)\n",
        "num_binner2.fit(x_train, Adaptive_5p)\n",
        "x_train = num_binner2.transform(x_train)\n",
        "x_valid = num_binner2.transform(x_valid)"
      ],
      "execution_count": 25,
      "outputs": []
    },
    {
      "cell_type": "code",
      "metadata": {
        "id": "g-rXDZwu8xSC",
        "colab_type": "code",
        "colab": {}
      },
      "source": [
        ""
      ],
      "execution_count": 25,
      "outputs": []
    },
    {
      "cell_type": "code",
      "metadata": {
        "scrolled": true,
        "id": "YblQUNdK8xSE",
        "colab_type": "code",
        "colab": {
          "base_uri": "https://localhost:8080/",
          "height": 0
        },
        "outputId": "0a17b24f-8bad-4e43-d3d9-512c850be302"
      },
      "source": [
        "for key, value in Custom_Bin.items():\n",
        "    num_bin_custom = FeatureEngineering_Numerical(method = 'custom', adaptive = False, custom_buckets= value)\n",
        "    num_bin_custom.fit(x_train,[key])\n",
        "    print(key,value)\n",
        "    x_train = num_bin_custom.transform(x_train)\n",
        "    x_valid = num_bin_custom.transform(x_valid)"
      ],
      "execution_count": 26,
      "outputs": [
        {
          "output_type": "stream",
          "text": [
            "TransactionAmt [0, 10, 20, 40, 50, 60, 70, 90, 100]\n",
            "C1 [0, 50, 70, 80, 90, 100]\n",
            "C2 [0, 50, 70, 80, 90, 100]\n",
            "C4 [0, 70, 90, 100]\n",
            "C5 [0, 60, 80, 90, 100]\n",
            "C6 [0, 60, 80, 90, 100]\n",
            "C7 [0, 80, 90, 100]\n",
            "C8 [0, 70, 90, 100]\n",
            "C9 [0, 60, 80, 90, 100]\n",
            "C10 [0, 70, 90, 100]\n",
            "C11 [0, 60, 80, 90, 100]\n",
            "C12 [0, 80, 90, 100]\n",
            "C13 [0, 10, 50, 60, 70, 80, 90, 100]\n",
            "C14 [0, 80, 90, 100]\n",
            "D1 [0, 50, 60, 70, 80, 90, 100]\n",
            "addr1 [0, 90, 100]\n",
            "D10 [0, 50, 60, 70, 80, 90, 100]\n",
            "D15 [0, 30, 40, 50, 60, 70, 80, 90, 100]\n",
            "D4 [0, 10, 50, 60, 70, 80, 90, 100]\n",
            "D3 [0, 30, 40, 50, 60, 100]\n",
            "D2 [0, 10, 20, 30, 40, 50, 60, 70, 100]\n",
            "D11 [0, 40, 50, 60, 70, 80, 90, 100]\n",
            "D6 [0, 70, 80, 90, 100]\n",
            "D12 [0, 70, 80, 90, 100]\n",
            "D14 [0, 70, 80, 90, 100]\n",
            "D13 [0, 90, 100]\n",
            "D7 [0, 60, 90, 100]\n",
            "V330 [0, 90, 100]\n",
            "V329 [0, 90, 100]\n",
            "V326 [0, 90, 100]\n",
            "V334 [0, 98, 100]\n",
            "V337 [0, 95, 100]\n",
            "V339 [0, 90, 100]\n",
            "V336 [0, 95, 100]\n",
            "V338 [0, 90, 100]\n",
            "V322 [0, 95, 100]\n",
            "V324 [0, 80, 100]\n",
            "V323 [0, 90, 100]\n",
            "V335 [0, 90, 100]\n",
            "V331 [0, 90, 100]\n",
            "V333 [0, 80, 100]\n",
            "V332 [0, 80, 100]\n",
            "V311 [0, 98, 100]\n",
            "V319 [0, 98, 100]\n",
            "V321 [0, 95, 100]\n",
            "V309 [0, 95, 100]\n",
            "V320 [0, 95, 100]\n",
            "V316 [0, 95, 100]\n",
            "V313 [0, 90, 100]\n",
            "V318 [0, 95, 100]\n",
            "V315 [0, 90, 100]\n",
            "V312 [0, 80, 90, 100]\n",
            "V317 [0, 90, 100]\n",
            "V306 [0, 90, 100]\n",
            "V314 [0, 90, 100]\n",
            "V308 [0, 80, 100]\n",
            "V310 [0, 70, 80, 90, 100]\n",
            "V307 [0, 60, 80, 100]\n"
          ],
          "name": "stdout"
        }
      ]
    },
    {
      "cell_type": "code",
      "metadata": {
        "id": "BAFLei4n8xSH",
        "colab_type": "code",
        "colab": {}
      },
      "source": [
        "cat_imputer = MissingDataImputer_Categorical(method = 'custom_value',add_indicator=False,value = 'Missing')\n",
        "cat_imputer.fit(x_train, variables = Rare_5)\n",
        "x_train = cat_imputer.transform(x_train)\n",
        "x_valid = cat_imputer.transform(x_valid)\n",
        "\n",
        "cat_imputer2 = MissingDataImputer_Categorical(method = 'custom_value',add_indicator=False,value = 'Missing')\n",
        "cat_imputer2.fit(x_train, variables = Rare_10)\n",
        "x_train = cat_imputer2.transform(x_train)\n",
        "x_valid = cat_imputer2.transform(x_valid)"
      ],
      "execution_count": 27,
      "outputs": []
    },
    {
      "cell_type": "code",
      "metadata": {
        "id": "OGEw80Oy8xSK",
        "colab_type": "code",
        "colab": {}
      },
      "source": [
        ""
      ],
      "execution_count": 27,
      "outputs": []
    },
    {
      "cell_type": "code",
      "metadata": {
        "id": "mKQJXjWA8xSN",
        "colab_type": "code",
        "colab": {}
      },
      "source": [
        "licol = x_train.columns\n",
        "mda_obj = MissingDataAnalysis(x_train[licol], target='isfraud', model = 'Classification' )\n",
        "X_miss = mda_obj.calculate_missing_values()\n",
        "x_missvar = X_miss.variables\n",
        "catcol =[]\n",
        "numcol = []\n",
        "for col in x_missvar:\n",
        "    if len(x_train[col].unique()) <=20 :\n",
        "        catcol.append(col)\n",
        "    else:\n",
        "        numcol.append(col)\n",
        "#catcol.extend([\"id_31\",\"id_33\",\"DeviceInfo\"])\n",
        "#numcol.remove(\"id_33\")\n",
        "#numcol.remove(\"DeviceInfo\")\n",
        "rare_encoder1 = FeatureEngineering_Categorical( method='rare')\n",
        "rare_encoder1.fit(x_train, catcol, target=None, rare_tol=5)\n",
        "x_train = rare_encoder1.transform(x_train)\n",
        "x_valid = rare_encoder1.transform(x_valid)\n",
        "\n",
        "num_binner3 = FeatureEngineering_Numerical(method = '5p', adaptive = True)\n",
        "num_binner3.fit(x_train, numcol)\n",
        "x_train = num_binner3.transform(x_train)\n",
        "x_valid = num_binner3.transform(x_valid)\n"
      ],
      "execution_count": 28,
      "outputs": []
    },
    {
      "cell_type": "code",
      "metadata": {
        "id": "7XtSoKBk8xSP",
        "colab_type": "code",
        "colab": {}
      },
      "source": [
        "#x_train['variable'].head()"
      ],
      "execution_count": 29,
      "outputs": []
    },
    {
      "cell_type": "markdown",
      "metadata": {
        "id": "aFongW018xSS",
        "colab_type": "text"
      },
      "source": [
        "### Label Encoding -  Avoid Label Encoding Just RUN One Hot"
      ]
    },
    {
      "cell_type": "code",
      "metadata": {
        "id": "jdsQoTaC8xSS",
        "colab_type": "code",
        "colab": {}
      },
      "source": [
        "label_encoder = FeatureEngineering_Categorical( method='label')\n",
        "label_encoder.fit(x_train,variables= Rare_5)\n",
        "x_train= label_encoder.transform(x_train)\n",
        "x_valid = label_encoder.transform(x_valid)"
      ],
      "execution_count": 30,
      "outputs": []
    },
    {
      "cell_type": "code",
      "metadata": {
        "id": "uZLYZum_8xSU",
        "colab_type": "code",
        "colab": {}
      },
      "source": [
        "label_encoder2 = FeatureEngineering_Categorical( method='label')\n",
        "label_encoder2.fit(x_train,variables= Rare_10)\n",
        "x_train= label_encoder2.transform(x_train)\n",
        "x_valid = label_encoder2.transform(x_valid)"
      ],
      "execution_count": 31,
      "outputs": []
    },
    {
      "cell_type": "code",
      "metadata": {
        "id": "CVP5pPRd8xSY",
        "colab_type": "code",
        "colab": {}
      },
      "source": [
        "label_encoder3 = FeatureEngineering_Categorical( method='label')\n",
        "label_encoder3.fit(x_train,variables= Rare_10)\n",
        "x_train= label_encoder3.transform(x_train)\n",
        "x_valid = label_encoder3.transform(x_valid)"
      ],
      "execution_count": 32,
      "outputs": []
    },
    {
      "cell_type": "code",
      "metadata": {
        "id": "wO0gFMg18xSa",
        "colab_type": "code",
        "colab": {}
      },
      "source": [
        "label_encoder4 = FeatureEngineering_Categorical( method='label')\n",
        "label_encoder4.fit(x_train,variables= catcol)\n",
        "x_train= label_encoder4.transform(x_train)\n",
        "x_valid = label_encoder4.transform(x_valid)"
      ],
      "execution_count": 33,
      "outputs": []
    },
    {
      "cell_type": "code",
      "metadata": {
        "id": "KeEy-iVY8xSd",
        "colab_type": "code",
        "colab": {}
      },
      "source": [
        "#label_encoder4 = FeatureEngineering_Categorical( method='label')\n",
        "label_encoder4.fit(x_train,variables= Adaptive_10p)\n",
        "x_train= label_encoder4.transform(x_train)\n",
        "x_valid = label_encoder4.transform(x_valid)"
      ],
      "execution_count": 34,
      "outputs": []
    },
    {
      "cell_type": "code",
      "metadata": {
        "id": "np9sB-MM8xSi",
        "colab_type": "code",
        "colab": {}
      },
      "source": [
        "label_encoder5 = FeatureEngineering_Categorical( method='label')\n",
        "label_encoder5.fit(x_train,variables= Adaptive_5p)\n",
        "x_train= label_encoder5.transform(x_train)\n",
        "x_valid = label_encoder5.transform(x_valid)"
      ],
      "execution_count": 35,
      "outputs": []
    },
    {
      "cell_type": "code",
      "metadata": {
        "id": "9ff03d9E8xSo",
        "colab_type": "code",
        "colab": {}
      },
      "source": [
        "label_encoder6 = FeatureEngineering_Categorical( method='label')\n",
        "label_encoder6.fit(x_train,variables= numcol)\n",
        "x_train= label_encoder6.transform(x_train)\n",
        "x_valid = label_encoder6.transform(x_valid)"
      ],
      "execution_count": 36,
      "outputs": []
    },
    {
      "cell_type": "code",
      "metadata": {
        "id": "Chh_lqnt8xSs",
        "colab_type": "code",
        "colab": {}
      },
      "source": [
        "listcolumn= ['TransactionAmt','addr1','P_emaildomain','R_emaildomain','C1','C2','C4','C5','C6','C7','C8','C9','C10','C11','C12','C13','C14','D1','D2','D3','D4','D6','D7','D10','D11','D12','D13','D14','D15','V306','V307','V308','V309','V310','V311','V312','V313','V314','V315','V316','V317','V318','V319','V320','V321','V322','V323','V324','V326','V329','V330','V331','V332','V333','V334','V335','V336','V337','V338','V339']"
      ],
      "execution_count": 37,
      "outputs": []
    },
    {
      "cell_type": "code",
      "metadata": {
        "id": "YS9FfMn68xSv",
        "colab_type": "code",
        "colab": {}
      },
      "source": [
        "label_encoder7 = FeatureEngineering_Categorical( method='label')\n",
        "label_encoder7.fit(x_train,variables= listcolumn)\n",
        "x_train= label_encoder7.transform(x_train)\n",
        "x_valid = label_encoder7.transform(x_valid)"
      ],
      "execution_count": 38,
      "outputs": []
    },
    {
      "cell_type": "markdown",
      "metadata": {
        "id": "7pC-wijJ8xS0",
        "colab_type": "text"
      },
      "source": [
        "### One Hot"
      ]
    },
    {
      "cell_type": "code",
      "metadata": {
        "id": "RZSuTWzQ8xS1",
        "colab_type": "code",
        "colab": {}
      },
      "source": [
        "Onehot_Encode = FeatureEngineering_Categorical( method='onehot')\n",
        "Onehot_Encode.fit(x_train,variables= Rare_5)\n",
        "x_train= Onehot_Encode.transform(x_train)\n",
        "x_valid = Onehot_Encode.transform(x_valid)"
      ],
      "execution_count": null,
      "outputs": []
    },
    {
      "cell_type": "code",
      "metadata": {
        "id": "29XNcDCa8xS8",
        "colab_type": "code",
        "colab": {}
      },
      "source": [
        "Onehot_Encode2 = FeatureEngineering_Categorical( method='onehot')\n",
        "Onehot_Encode2.fit(x_train,variables= Rare_10)\n",
        "x_train= Onehot_Encode2.transform(x_train)\n",
        "x_valid = Onehot_Encode2.transform(x_valid)"
      ],
      "execution_count": null,
      "outputs": []
    },
    {
      "cell_type": "code",
      "metadata": {
        "id": "wcoCbvvv8xS_",
        "colab_type": "code",
        "colab": {}
      },
      "source": [
        ""
      ],
      "execution_count": null,
      "outputs": []
    },
    {
      "cell_type": "code",
      "metadata": {
        "id": "Ytkm1SU28xTC",
        "colab_type": "code",
        "colab": {}
      },
      "source": [
        "Onehot_Encode4 = FeatureEngineering_Categorical( method='onehot')\n",
        "Onehot_Encode4.fit(x_train,variables= catcol)\n",
        "x_train= Onehot_Encode4.transform(x_train)\n",
        "x_valid = Onehot_Encode4.transform(x_valid)"
      ],
      "execution_count": null,
      "outputs": []
    },
    {
      "cell_type": "code",
      "metadata": {
        "id": "lUAsnIRW8xTE",
        "colab_type": "code",
        "colab": {}
      },
      "source": [
        "#Onehot_Encode4 = FeatureEngineering_Categorical( method='Onehot')\n",
        "Onehot_Encode4.fit(x_train,variables= Adaptive_10p)\n",
        "x_train= Onehot_Encode4.transform(x_train)\n",
        "x_valid = Onehot_Encode4.transform(x_valid)"
      ],
      "execution_count": null,
      "outputs": []
    },
    {
      "cell_type": "code",
      "metadata": {
        "id": "49oYByBW8xTH",
        "colab_type": "code",
        "colab": {}
      },
      "source": [
        "Onehot_Encode5 = FeatureEngineering_Categorical( method='onehot')\n",
        "Onehot_Encode5.fit(x_train,variables= Adaptive_5p)\n",
        "x_train= Onehot_Encode5.transform(x_train)\n",
        "x_valid = Onehot_Encode5.transform(x_valid)"
      ],
      "execution_count": null,
      "outputs": []
    },
    {
      "cell_type": "code",
      "metadata": {
        "id": "F1L-W0Fi8xTL",
        "colab_type": "code",
        "colab": {}
      },
      "source": [
        "Onehot_Encode6 = FeatureEngineering_Categorical( method='onehot')\n",
        "Onehot_Encode6.fit(x_train,variables= numcol)\n",
        "x_train= Onehot_Encode6.transform(x_train)\n",
        "x_valid = Onehot_Encode6.transform(x_valid)"
      ],
      "execution_count": null,
      "outputs": []
    },
    {
      "cell_type": "code",
      "metadata": {
        "id": "KlgNdSLP8xTN",
        "colab_type": "code",
        "colab": {}
      },
      "source": [
        "listcolumn= ['TransactionAmt','addr1','P_emaildomain','R_emaildomain','C1','C2','C4','C5','C6','C7','C8','C9','C10','C11','C12','C13','C14','D1','D2','D3','D4','D6','D7','D10','D11','D12','D13','D14','D15','V306','V307','V308','V309','V310','V311','V312','V313','V314','V315','V316','V317','V318','V319','V320','V321','V322','V323','V324','V326','V329','V330','V331','V332','V333','V334','V335','V336','V337','V338','V339']"
      ],
      "execution_count": null,
      "outputs": []
    },
    {
      "cell_type": "code",
      "metadata": {
        "id": "m-V03S7A8xTU",
        "colab_type": "code",
        "colab": {}
      },
      "source": [
        "Onehot_Encode7 = FeatureEngineering_Categorical( method='onehot')\n",
        "Onehot_Encode7.fit(x_train,variables= listcolumn)\n",
        "x_train= Onehot_Encode7.transform(x_train)\n",
        "x_valid = Onehot_Encode7.transform(x_valid)"
      ],
      "execution_count": null,
      "outputs": []
    },
    {
      "cell_type": "code",
      "metadata": {
        "id": "bc3JPfBo8xTY",
        "colab_type": "code",
        "colab": {}
      },
      "source": [
        "DF_Analysis= pd.DataFrame(x_train.dtypes)\n",
        "DF_Analysis.index.name = \"Variable\"\n",
        "DF_Analysis.columns = [\"DType\"]\n",
        "DF_Analysis[\"Unique\"] = x_train.nunique()\n",
        "DF_Analysis[\"Missing_Count\"]=pd.DataFrame(x_train.isnull().sum())\n",
        "DF_Analysis[\"Missing_Rate\"] = round((x_train.isnull().sum()/x_train.shape[0])*100,2)\n",
        "\n",
        "DF_Analysis[\"Cat_Num\"] = np.where(DF_Analysis.Unique >=60,\"Numerical\",(np.where(DF_Analysis.DType == \"object\",\n",
        "                                                                     \"Categorical\",\"Num_Cat\")))\n",
        "DF_Analysis.sort_values(by = [\"Missing_Count\"], ascending= False)\n",
        "DF_Analysis[\"Imputation_Method\"] = np.where(DF_Analysis.Missing_Rate >0,\n",
        "                                            np.where(DF_Analysis.Cat_Num == \"Categorical\",\"Missing\",\n",
        "                                            np.where(DF_Analysis.Cat_Num == \"Num_Cat\",\"Missing\",\"Binning\")),\"Not Applicable\")\n",
        "    #np.where(DF_Analysis.Missing_Rate ==0,\"Not Applicable\",np.where(DF_Analysis.Cat_Num == \"Categorical\",\"Mode\",\n",
        "   # np.where(DF_Analysis.Cat_Num == \"Num_Cat\",\"Mode\",\"Mean_Median\"))))\n",
        "DF_Analysis[\"Drop_Variable\"] =  np.where(DF_Analysis.Missing_Rate >=90, \"Yes\",\"No\")"
      ],
      "execution_count": null,
      "outputs": []
    },
    {
      "cell_type": "code",
      "metadata": {
        "id": "DIy8hOnG8xTd",
        "colab_type": "code",
        "colab": {}
      },
      "source": [
        "DF_Analysis.sort_values(by = 'Unique',ascending=False).head(100)"
      ],
      "execution_count": null,
      "outputs": []
    },
    {
      "cell_type": "code",
      "metadata": {
        "id": "3FZRC_CJ8xTi",
        "colab_type": "code",
        "colab": {}
      },
      "source": [
        "#DF_Analysis[DF_Analysis[\"Cat_Num\"] == 'Numerical']"
      ],
      "execution_count": null,
      "outputs": []
    },
    {
      "cell_type": "markdown",
      "metadata": {
        "id": "EeZKco_w8xTm",
        "colab_type": "text"
      },
      "source": [
        "### Normalizing Column names"
      ]
    },
    {
      "cell_type": "code",
      "metadata": {
        "id": "m5uJcHxb8xTn",
        "colab_type": "code",
        "colab": {}
      },
      "source": [
        "litraincolOrg = x_train.columns\n",
        "litraincol  =  litraincolOrg\n",
        "livalidcolOrg = x_valid.columns\n",
        "livalidcol  =  livalidcolOrg"
      ],
      "execution_count": null,
      "outputs": []
    },
    {
      "cell_type": "code",
      "metadata": {
        "id": "mb-wJ_mR8xTp",
        "colab_type": "code",
        "colab": {}
      },
      "source": [
        ""
      ],
      "execution_count": null,
      "outputs": []
    },
    {
      "cell_type": "code",
      "metadata": {
        "id": "ibQSf-5F8xTr",
        "colab_type": "code",
        "colab": {}
      },
      "source": [
        "import re\n",
        "[str(sentence).replace(\"' \",\" \") for sentence in litraincol]\n",
        "[str(sentence).replace(\"' \",\" \") for sentence in livalidcol]"
      ],
      "execution_count": null,
      "outputs": []
    },
    {
      "cell_type": "code",
      "metadata": {
        "id": "YWBRy-pi8xTu",
        "colab_type": "code",
        "colab": {}
      },
      "source": [
        "for a in [\"-\",\".\",\" \",\"(\",\"]\"]:\n",
        "    litraincol = [str(x).replace(a,\"_\") for x in litraincol]\n",
        "    livalidcol = [str(x).replace(a,\"_\") for x in livalidcol]"
      ],
      "execution_count": null,
      "outputs": []
    },
    {
      "cell_type": "code",
      "metadata": {
        "id": "rRR_ykTF8xTx",
        "colab_type": "code",
        "colab": {}
      },
      "source": [
        "for a in [\"_0_\",\"__\",\"_0,\"]:\n",
        "    litraincol = [str(x).replace(a,\"_\") for x in litraincol]\n",
        "    livalidcol = [str(x).replace(a,\"_\") for x in livalidcol]"
      ],
      "execution_count": null,
      "outputs": []
    },
    {
      "cell_type": "code",
      "metadata": {
        "id": "hHwGwP3n8xT0",
        "colab_type": "code",
        "colab": {}
      },
      "source": [
        "for a in [\",\"]:\n",
        "    litraincol = [str(x).replace(a,\"_\") for x in litraincol]\n",
        "    livalidcol = [str(x).replace(a,\"_\") for x in livalidcol]"
      ],
      "execution_count": null,
      "outputs": []
    },
    {
      "cell_type": "code",
      "metadata": {
        "id": "8IB-iJLR8xT3",
        "colab_type": "code",
        "colab": {}
      },
      "source": [
        "x_train.columns = litraincol\n",
        "x_valid.columns = livalidcol\n",
        "    "
      ],
      "execution_count": null,
      "outputs": []
    },
    {
      "cell_type": "markdown",
      "metadata": {
        "id": "hAT_dwTW8xT5",
        "colab_type": "text"
      },
      "source": [
        "#### Modelling"
      ]
    },
    {
      "cell_type": "code",
      "metadata": {
        "id": "zoGOzOzL8xT5",
        "colab_type": "code",
        "colab": {}
      },
      "source": [
        "model5 = LGBMClassifier()\n",
        "model5.fit(x_train, y_train)\n"
      ],
      "execution_count": null,
      "outputs": []
    },
    {
      "cell_type": "code",
      "metadata": {
        "id": "vGzEBhex8xT7",
        "colab_type": "code",
        "colab": {}
      },
      "source": [
        "x_train.columns"
      ],
      "execution_count": null,
      "outputs": []
    },
    {
      "cell_type": "code",
      "metadata": {
        "id": "npM6hWhj8xT-",
        "colab_type": "code",
        "colab": {}
      },
      "source": [
        "fi=pd.DataFrame({'cols' : litraincolOrg, 'imp' : model5.feature_importances_})\n",
        "fi = fi.sort_values('imp', ascending=False)\n",
        "top_50 = fi[0:50]\n",
        "top_50 = top_50.sort_values('imp', ascending=True)\n",
        "# Plot the bar chart\n",
        "top_50.plot(x='cols', kind='barh' , figsize=(15,18))\n",
        "plt.show()"
      ],
      "execution_count": null,
      "outputs": []
    },
    {
      "cell_type": "code",
      "metadata": {
        "id": "nx3bC2Rw8xUA",
        "colab_type": "code",
        "colab": {}
      },
      "source": [
        "predicted = model5.predict(x_valid) \n",
        "results = confusion_matrix(y_valid, predicted) \n",
        "\n",
        "print('Confusion Matrix :')\n",
        "print(results) \n",
        "print('Accuracy Score :',accuracy_score(y_valid, predicted)) \n",
        "print('Report : ')\n",
        "print(classification_report(y_valid, predicted)) "
      ],
      "execution_count": null,
      "outputs": []
    },
    {
      "cell_type": "markdown",
      "metadata": {
        "id": "lVzkZnEX8xUC",
        "colab_type": "text"
      },
      "source": [
        "### Using Optuna"
      ]
    },
    {
      "cell_type": "code",
      "metadata": {
        "id": "-zE-bWF78xUD",
        "colab_type": "code",
        "colab": {}
      },
      "source": [
        "import optuna.integration.lightgbm as lgb"
      ],
      "execution_count": null,
      "outputs": []
    },
    {
      "cell_type": "code",
      "metadata": {
        "id": "c6vWE3L98xUF",
        "colab_type": "code",
        "colab": {}
      },
      "source": [
        "dtrain = lgb.Dataset(x_train, label=y_train)\n",
        "dval = lgb.Dataset(x_valid, label=y_valid)"
      ],
      "execution_count": null,
      "outputs": []
    },
    {
      "cell_type": "code",
      "metadata": {
        "scrolled": true,
        "id": "MEFPljVx8xUH",
        "colab_type": "code",
        "colab": {}
      },
      "source": [
        "params = {\n",
        "        \"objective\": \"binary\",\n",
        "        \"metric\": \"binary_logloss\",\n",
        "        \"verbosity\": -1,\n",
        "        \"boosting_type\": \"gbdt\",\n",
        "    }\n",
        "\n",
        "model = lgb.train(\n",
        "        params, dtrain, valid_sets=[dtrain, dval], verbose_eval=100, early_stopping_rounds=100)"
      ],
      "execution_count": null,
      "outputs": []
    },
    {
      "cell_type": "code",
      "metadata": {
        "id": "kNxfRqpk8xUM",
        "colab_type": "code",
        "colab": {}
      },
      "source": [
        "params = {\n",
        "        \"objective\": \"binary\",\n",
        "        \"metric\": \"binary_logloss\",\n",
        "        \"verbosity\": -1,\n",
        "        \"boosting_type\": \"goss\",\n",
        "    }\n",
        "\n",
        "model = lgb.train(\n",
        "        params, dtrain, valid_sets=[dtrain, dval], verbose_eval=2, early_stopping_rounds=2)"
      ],
      "execution_count": null,
      "outputs": []
    },
    {
      "cell_type": "code",
      "metadata": {
        "id": "7VLCi2GB8xUO",
        "colab_type": "code",
        "colab": {}
      },
      "source": [
        "prediction = np.rint(model.predict(x_valid, num_iteration=model.best_iteration))\n",
        "accuracy = accuracy_score(y_valid, prediction)\n",
        "\n",
        "best_params = model.params\n",
        "print(\"Best params:\", best_params)\n",
        "print(\"  Accuracy = {}\".format(accuracy))\n",
        "print(\"  Params: \")"
      ],
      "execution_count": null,
      "outputs": []
    },
    {
      "cell_type": "code",
      "metadata": {
        "id": "JzEcPTH88xUQ",
        "colab_type": "code",
        "colab": {}
      },
      "source": [
        "results = confusion_matrix(y_valid, prediction) \n",
        "\n",
        "print('Confusion Matrix :')\n",
        "print(results) "
      ],
      "execution_count": null,
      "outputs": []
    },
    {
      "cell_type": "code",
      "metadata": {
        "id": "J3SrSQ4z8xUT",
        "colab_type": "code",
        "colab": {}
      },
      "source": [
        "model_n = LGBMClassifier(objective= 'binary', metric= 'binary_logloss', verbosity= -1, boosting_type= 'gbdt',\n",
        "                       feature_pre_filter= False, lambda_l1= 1.1223456089014623e-08, \n",
        "                       lambda_l2= 1.447432290967618e-08, num_leaves= 31, feature_fraction= 0.8999999999999999,\n",
        "                       bagging_fraction= 1.0, bagging_freq = 0,min_child_samples= 20)\n",
        "model_n.fit(x_train, y_train)"
      ],
      "execution_count": null,
      "outputs": []
    },
    {
      "cell_type": "code",
      "metadata": {
        "id": "EPa-cwij8xUV",
        "colab_type": "code",
        "colab": {}
      },
      "source": [
        "litraincolOrg[model_n.feature_importances_]"
      ],
      "execution_count": null,
      "outputs": []
    },
    {
      "cell_type": "code",
      "metadata": {
        "id": "5MfHM0kD8xUX",
        "colab_type": "code",
        "colab": {}
      },
      "source": [
        "fi=pd.DataFrame({'cols' : litraincolOrg, 'imp' : model_n.feature_importances_})\n",
        "fi = fi.sort_values('imp', ascending=False)\n",
        "top_50 = fi[0:50]\n",
        "top_50 = top_50.sort_values('imp', ascending=True)\n",
        "# Plot the bar chart\n",
        "top_50.plot(x='cols', kind='barh' , figsize=(15,18))\n",
        "plt.show()"
      ],
      "execution_count": null,
      "outputs": []
    },
    {
      "cell_type": "markdown",
      "metadata": {
        "id": "-GarHDwO8xUZ",
        "colab_type": "text"
      },
      "source": [
        "##### Reducing stopping rounds"
      ]
    },
    {
      "cell_type": "code",
      "metadata": {
        "id": "v4rBwnAH8xUa",
        "colab_type": "code",
        "colab": {}
      },
      "source": [
        "\n",
        "model2 = lgb.train(\n",
        "        params, dtrain, valid_sets=[dtrain, dval], verbose_eval=50, early_stopping_rounds=50)"
      ],
      "execution_count": null,
      "outputs": []
    },
    {
      "cell_type": "code",
      "metadata": {
        "id": "Z07lQ1RM8xUd",
        "colab_type": "code",
        "colab": {}
      },
      "source": [
        "prediction = np.rint(model2.predict(x_valid, num_iteration=model2.best_iteration))\n",
        "accuracy = accuracy_score(y_valid, prediction)\n",
        "\n",
        "best_params = model2.params\n",
        "print(\"Best params:\", best_params)\n",
        "print(\"  Accuracy = {}\".format(accuracy))\n",
        "print(\"  Params: \")"
      ],
      "execution_count": null,
      "outputs": []
    },
    {
      "cell_type": "code",
      "metadata": {
        "id": "zpVW0Dan8xUf",
        "colab_type": "code",
        "colab": {}
      },
      "source": [
        "model_n2 = LGBMClassifier(objective= 'binary', metric= 'binary_logloss', verbosity= -1, boosting_type= 'gbdt',\n",
        "                         feature_pre_filter= False, lambda_l1= 2.7445577876565753e-06, lambda_l2= 1.0515291002147425e-06, num_leaves= 31, feature_fraction= 0.8999999999999999, bagging_fraction= 0.9880932286085656, bagging_freq= 7, min_child_samples= 20)\n",
        "model_n2.fit(x_train, y_train)"
      ],
      "execution_count": null,
      "outputs": []
    },
    {
      "cell_type": "code",
      "metadata": {
        "id": "emz6JUjD8xUj",
        "colab_type": "code",
        "colab": {}
      },
      "source": [
        "fi=pd.DataFrame({'cols' : litraincolOrg, 'imp' : model_n2.feature_importances_})\n",
        "fi = fi.sort_values('imp', ascending=False)\n",
        "top_50 = fi[0:50]\n",
        "top_50 = top_50.sort_values('imp', ascending=True)\n",
        "# Plot the bar chart\n",
        "top_50.plot(x='cols', kind='barh' , figsize=(15,18))\n",
        "plt.show()"
      ],
      "execution_count": null,
      "outputs": []
    },
    {
      "cell_type": "code",
      "metadata": {
        "id": "xcfZonZ48xUm",
        "colab_type": "code",
        "colab": {}
      },
      "source": [
        ""
      ],
      "execution_count": null,
      "outputs": []
    },
    {
      "cell_type": "markdown",
      "metadata": {
        "id": "HLMGLzSh8xUp",
        "colab_type": "text"
      },
      "source": [
        "#### Using Hyperopt"
      ]
    },
    {
      "cell_type": "code",
      "metadata": {
        "id": "e0a1qVqx8xUp",
        "colab_type": "code",
        "colab": {}
      },
      "source": [
        "from hyperopt import hp, tpe\n",
        "from hyperopt.fmin import fmin\n",
        "from sklearn.model_selection import cross_val_score,StratifiedKFold\n",
        "from sklearn.metrics import make_scorer"
      ],
      "execution_count": null,
      "outputs": []
    },
    {
      "cell_type": "code",
      "metadata": {
        "id": "zN7_gtws8xUu",
        "colab_type": "code",
        "colab": {}
      },
      "source": [
        ""
      ],
      "execution_count": null,
      "outputs": []
    },
    {
      "cell_type": "code",
      "metadata": {
        "id": "Ofyyx6qK8xUw",
        "colab_type": "code",
        "colab": {}
      },
      "source": [
        "\n",
        "def gini_sklearn(truth, predictions):\n",
        "    return gini(truth, predictions) / gini(truth, truth)\n",
        "\n",
        "gini_scorer = make_scorer(gini_sklearn, greater_is_better=True, needs_proba=True)"
      ],
      "execution_count": null,
      "outputs": []
    },
    {
      "cell_type": "code",
      "metadata": {
        "id": "GLLJsZXP8xUz",
        "colab_type": "code",
        "colab": {}
      },
      "source": [
        "def gini(truth, predictions):\n",
        "    g = np.asarray(np.c_[truth, predictions, np.arange(len(truth)) ], dtype=np.float)\n",
        "    g = g[np.lexsort((g[:,2], -1*g[:,1]))]\n",
        "    gs = g[:,0].cumsum().sum() / g[:,0].sum()\n",
        "    gs -= (len(truth) + 1) / 2.\n",
        "    return gs / len(truth)"
      ],
      "execution_count": null,
      "outputs": []
    },
    {
      "cell_type": "code",
      "metadata": {
        "id": "4BjcJCGU8xU2",
        "colab_type": "code",
        "colab": {}
      },
      "source": [
        ""
      ],
      "execution_count": null,
      "outputs": []
    },
    {
      "cell_type": "code",
      "metadata": {
        "id": "c-3zlth38xU4",
        "colab_type": "code",
        "colab": {}
      },
      "source": [
        "def objective(params):\n",
        "    params = {\n",
        "        'num_leaves': int(params['num_leaves']),\n",
        "        'colsample_bytree': '{:.3f}'.format(params['colsample_bytree'])\n",
        "        \n",
        "    }\n",
        "    \n",
        "    clf = LGBMClassifier(\n",
        "        n_estimators=500,\n",
        "        learning_rate=0.01,\n",
        "        **params\n",
        "    )\n",
        "    \n",
        "    score = cross_val_score(clf, x_train, y_train, scoring=gini_scorer, cv=StratifiedKFold()).mean()\n",
        "    print(\"Gini {:.3f} params {}\".format(score, params))\n",
        "    return score\n",
        "\n",
        "space = {\n",
        "    'num_leaves': hp.quniform('num_leaves', 8, 128, 2),\n",
        "    'colsample_bytree': hp.uniform('colsample_bytree', 0.3, 1.0),\n",
        "}\n",
        "\n",
        "best = fmin(fn=objective,\n",
        "            space=space,\n",
        "            algo=tpe.suggest,\n",
        "            max_evals=10)"
      ],
      "execution_count": null,
      "outputs": []
    },
    {
      "cell_type": "code",
      "metadata": {
        "id": "OVv_yg_j8xU6",
        "colab_type": "code",
        "colab": {}
      },
      "source": [
        "print(\"Hyperopt estimated optimum {}\".format(best))"
      ],
      "execution_count": null,
      "outputs": []
    },
    {
      "cell_type": "code",
      "metadata": {
        "id": "5Dx7oCnX8xU8",
        "colab_type": "code",
        "colab": {}
      },
      "source": [
        "clf = LGBMClassifier(\n",
        "        n_estimators=500,\n",
        "        learning_rate=0.01,\n",
        "        colsample_bytree=  0.5132404769235878, num_leaves =8)"
      ],
      "execution_count": null,
      "outputs": []
    },
    {
      "cell_type": "code",
      "metadata": {
        "id": "W8dBYibz8xU-",
        "colab_type": "code",
        "colab": {}
      },
      "source": [
        "clf = LGBMClassifier(\n",
        "        n_estimators=500,\n",
        "        learning_rate=0.01,\n",
        "        colsample_bytree= 0.9677129067732777, num_leaves= 88)"
      ],
      "execution_count": null,
      "outputs": []
    },
    {
      "cell_type": "code",
      "metadata": {
        "id": "mv03H1R48xVB",
        "colab_type": "code",
        "colab": {}
      },
      "source": [
        "clf.fit(x_train, y_train)"
      ],
      "execution_count": null,
      "outputs": []
    },
    {
      "cell_type": "code",
      "metadata": {
        "id": "Fk67Zjfs8xVE",
        "colab_type": "code",
        "colab": {}
      },
      "source": [
        "predicted = clf.predict(x_valid) \n",
        "results = confusion_matrix(y_valid, predicted) \n",
        "\n",
        "print('Confusion Matrix :')\n",
        "print(results) \n",
        "print('Accuracy Score :',accuracy_score(y_valid, predicted)) \n",
        "print('Report : ')\n",
        "print(classification_report(y_valid, predicted)) "
      ],
      "execution_count": null,
      "outputs": []
    },
    {
      "cell_type": "code",
      "metadata": {
        "id": "Ch8T-LlU8xVG",
        "colab_type": "code",
        "colab": {}
      },
      "source": [
        ""
      ],
      "execution_count": null,
      "outputs": []
    },
    {
      "cell_type": "code",
      "metadata": {
        "id": "vgbhJdvp8xVI",
        "colab_type": "code",
        "colab": {}
      },
      "source": [
        "fi=pd.DataFrame({'cols' : litraincolOrg, 'imp' : clf.feature_importances_})\n",
        "fi = fi.sort_values('imp', ascending=False)\n",
        "top_50 = fi[0:50]\n",
        "top_50 = top_50.sort_values('imp', ascending=True)\n",
        "# Plot the bar chart\n",
        "top_50.plot(x='cols', kind='barh' , figsize=(15,18))\n",
        "plt.show()"
      ],
      "execution_count": null,
      "outputs": []
    },
    {
      "cell_type": "code",
      "metadata": {
        "id": "seN6wgZD8xVJ",
        "colab_type": "code",
        "colab": {}
      },
      "source": [
        "def objective(params):\n",
        "    params = {\n",
        "        'num_leaves': int(params['num_leaves']),\n",
        "        'colsample_bytree': '{:.3f}'.format(params['colsample_bytree']),\n",
        "        'feature_fraction': '{:.3f}'.format(params['feature_fraction']),\n",
        "        'min_child_samples': int(params['min_child_samples'])\n",
        "        \n",
        "    }\n",
        "    \n",
        "    clf = LGBMClassifier(\n",
        "        n_estimators=500,\n",
        "        learning_rate=0.01,\n",
        "        **params\n",
        "    )\n",
        "    \n",
        "    score = cross_val_score(clf, x_train, y_train, scoring=gini_scorer, cv=StratifiedKFold()).mean()\n",
        "    print(\"Gini {:.3f} params {}\".format(score, params))\n",
        "    return score\n",
        "\n",
        "space = {\n",
        "    'num_leaves': hp.quniform('num_leaves', 8, 128, 2),\n",
        "    'colsample_bytree': hp.uniform('colsample_bytree', 0.3, 1.0),\n",
        "    'feature_fraction': hp.uniform('feature_fraction', 0.3, 1.0),\n",
        "    'min_child_samples': hp.quniform('min_child_samples', 8, 128, 2)\n",
        "}\n",
        "\n",
        "best = fmin(fn=objective,\n",
        "            space=space,\n",
        "            algo=tpe.suggest,\n",
        "            max_evals=10)"
      ],
      "execution_count": null,
      "outputs": []
    },
    {
      "cell_type": "code",
      "metadata": {
        "id": "Ro9gEfum8xVL",
        "colab_type": "code",
        "colab": {}
      },
      "source": [
        "format(best)"
      ],
      "execution_count": null,
      "outputs": []
    },
    {
      "cell_type": "code",
      "metadata": {
        "id": "MlNO7SCe8xVR",
        "colab_type": "code",
        "colab": {}
      },
      "source": [
        ""
      ],
      "execution_count": null,
      "outputs": []
    },
    {
      "cell_type": "code",
      "metadata": {
        "id": "dIoB8O1S8xVT",
        "colab_type": "code",
        "colab": {}
      },
      "source": [
        "clf2 = LGBMClassifier(\n",
        "colsample_bytree= 0.8489192082676236, feature_fraction= 0.8284137925636559,\n",
        "    min_child_samples= 40, num_leaves= 12)\n",
        "clf2.fit(x_train, y_train)"
      ],
      "execution_count": null,
      "outputs": []
    },
    {
      "cell_type": "code",
      "metadata": {
        "id": "Ho-TQael8xVW",
        "colab_type": "code",
        "colab": {}
      },
      "source": [
        "predicted = clf2.predict(x_valid) \n",
        "results = confusion_matrix(y_valid, predicted) \n",
        "\n",
        "print('Confusion Matrix :')\n",
        "print(results) \n",
        "print('Accuracy Score :',accuracy_score(y_valid, predicted)) \n",
        "print('Report : ')\n",
        "print(classification_report(y_valid, predicted)) "
      ],
      "execution_count": null,
      "outputs": []
    },
    {
      "cell_type": "code",
      "metadata": {
        "id": "bqb8OKDf8xVZ",
        "colab_type": "code",
        "colab": {}
      },
      "source": [
        "fi=pd.DataFrame({'cols' : litraincolOrg, 'imp' : clf2.feature_importances_})\n",
        "fi = fi.sort_values('imp', ascending=False)\n",
        "top_50 = fi[0:10]\n",
        "top_50 = top_50.sort_values('imp', ascending=True)\n",
        "# Plot the bar chart\n",
        "top_50.plot(x='cols', kind='barh' , figsize=(7,4))\n",
        "plt.show()"
      ],
      "execution_count": null,
      "outputs": []
    },
    {
      "cell_type": "code",
      "metadata": {
        "id": "WnV4gULI8xVb",
        "colab_type": "code",
        "colab": {}
      },
      "source": [
        "clf3 = LGBMClassifier(learning_rate=0.03,\n",
        "               n_estimators=500, \n",
        "colsample_bytree= 0.8489192082676236, feature_fraction= 0.8284137925636559,\n",
        "    min_child_samples= 40, num_leaves= 31)\n",
        "clf3.fit(x_train, y_train)"
      ],
      "execution_count": null,
      "outputs": []
    },
    {
      "cell_type": "code",
      "metadata": {
        "id": "RsuNtblV8xVd",
        "colab_type": "code",
        "colab": {}
      },
      "source": [
        "predicted = clf3.predict(x_valid) \n",
        "results = confusion_matrix(y_valid, predicted) \n",
        "print('Confusion Matrix :')\n",
        "print(results) \n",
        "print('Accuracy Score :',accuracy_score(y_valid, predicted)) \n",
        "print('Report : ')\n",
        "print(classification_report(y_valid, predicted)) "
      ],
      "execution_count": null,
      "outputs": []
    },
    {
      "cell_type": "code",
      "metadata": {
        "id": "K87VvJce8xVf",
        "colab_type": "code",
        "colab": {}
      },
      "source": [
        ""
      ],
      "execution_count": null,
      "outputs": []
    },
    {
      "cell_type": "code",
      "metadata": {
        "id": "fmMftUym8xVh",
        "colab_type": "code",
        "colab": {}
      },
      "source": [
        ""
      ],
      "execution_count": null,
      "outputs": []
    },
    {
      "cell_type": "code",
      "metadata": {
        "id": "0Y-OQa_m8xVj",
        "colab_type": "code",
        "colab": {}
      },
      "source": [
        "#### Bayesian HyperOpt"
      ],
      "execution_count": null,
      "outputs": []
    },
    {
      "cell_type": "code",
      "metadata": {
        "id": "U9i-Ihns8xVk",
        "colab_type": "code",
        "colab": {}
      },
      "source": [
        ""
      ],
      "execution_count": null,
      "outputs": []
    },
    {
      "cell_type": "code",
      "metadata": {
        "id": "zy2BsSN78xVm",
        "colab_type": "code",
        "colab": {}
      },
      "source": [
        "def objective(x):\n",
        "    \"\"\"Objective function to minimize\"\"\"\n",
        "    \n",
        "    # Create the polynomial object\n",
        "    f = np.poly1d([1, -2, -28, 28, 12, -26, 100])\n",
        "\n",
        "    # Return the value of the polynomial\n",
        "    return f(x) * 0.05\n",
        "\n",
        "space = hp.uniform('x', -5, 6)"
      ],
      "execution_count": null,
      "outputs": []
    },
    {
      "cell_type": "code",
      "metadata": {
        "id": "LxhedOyQ8xVo",
        "colab_type": "code",
        "colab": {}
      },
      "source": [
        "from hyperopt import tpe# Create the algorithm\n",
        "tpe_algo = tpe.suggest\n",
        "from hyperopt import Trials# Create a trials object\n",
        "tpe_trials = Trials()"
      ],
      "execution_count": null,
      "outputs": []
    },
    {
      "cell_type": "code",
      "metadata": {
        "id": "jeTF16T08xVp",
        "colab_type": "code",
        "colab": {}
      },
      "source": [
        "from hyperopt import fmin\n",
        "\n",
        "# Run 2000 evals with the tpe algorithm\n",
        "tpe_best = fmin(fn=objective, space=space, \n",
        "                algo=tpe_algo, trials=tpe_trials, \n",
        "                max_evals=2000)\n",
        "\n",
        "print(tpe_best)"
      ],
      "execution_count": null,
      "outputs": []
    },
    {
      "cell_type": "code",
      "metadata": {
        "id": "ihXYj8rF8xVu",
        "colab_type": "code",
        "colab": {}
      },
      "source": [
        "# Dataframe of results from optimization\n",
        "tpe_results = pd.DataFrame({'loss': [x['loss'] for x in tpe_trials.results], \n",
        "                            'iteration': tpe_trials.idxs_vals[0]['x'],\n",
        "                            'x': tpe_trials.idxs_vals[1]['x']})\n",
        "                            \n",
        "tpe_results.head()"
      ],
      "execution_count": null,
      "outputs": []
    },
    {
      "cell_type": "code",
      "metadata": {
        "id": "Rr9Kgnuc8xVx",
        "colab_type": "code",
        "colab": {}
      },
      "source": [
        ""
      ],
      "execution_count": null,
      "outputs": []
    },
    {
      "cell_type": "code",
      "metadata": {
        "id": "ls2sFL8_8xVz",
        "colab_type": "code",
        "colab": {}
      },
      "source": [
        ""
      ],
      "execution_count": null,
      "outputs": []
    },
    {
      "cell_type": "code",
      "metadata": {
        "id": "8H_McpZP8xV4",
        "colab_type": "code",
        "colab": {}
      },
      "source": [
        ""
      ],
      "execution_count": null,
      "outputs": []
    },
    {
      "cell_type": "code",
      "metadata": {
        "id": "_odB1CXY8xV6",
        "colab_type": "code",
        "colab": {}
      },
      "source": [
        ""
      ],
      "execution_count": null,
      "outputs": []
    },
    {
      "cell_type": "code",
      "metadata": {
        "id": "3FTzfjZK8xV7",
        "colab_type": "code",
        "colab": {}
      },
      "source": [
        ""
      ],
      "execution_count": null,
      "outputs": []
    },
    {
      "cell_type": "code",
      "metadata": {
        "id": "CZguWqNv8xV9",
        "colab_type": "code",
        "colab": {}
      },
      "source": [
        ""
      ],
      "execution_count": null,
      "outputs": []
    },
    {
      "cell_type": "code",
      "metadata": {
        "id": "r1jWk3Oy8xV-",
        "colab_type": "code",
        "colab": {}
      },
      "source": [
        ""
      ],
      "execution_count": null,
      "outputs": []
    },
    {
      "cell_type": "code",
      "metadata": {
        "id": "e428axfd8xWA",
        "colab_type": "code",
        "colab": {}
      },
      "source": [
        ""
      ],
      "execution_count": null,
      "outputs": []
    },
    {
      "cell_type": "code",
      "metadata": {
        "id": "DcezTEoi8xWB",
        "colab_type": "code",
        "colab": {}
      },
      "source": [
        ""
      ],
      "execution_count": null,
      "outputs": []
    },
    {
      "cell_type": "code",
      "metadata": {
        "id": "fyy20zPc8xWC",
        "colab_type": "code",
        "colab": {}
      },
      "source": [
        "import datetime\n",
        "START_DATE = '2019-12-01'\n",
        "X_train = pd.DataFrame()\n",
        "startdate = datetime.datetime.strptime(START_DATE, \"%Y-%m-%d\")\n",
        "x_train[\"Date\"] = x_train['TransactionDT'].apply(lambda x: (startdate + datetime.timedelta(seconds=x)))\n",
        "x_valid[\"Date\"] = x_valid['TransactionDT'].apply(lambda x: (startdate + datetime.timedelta(seconds=x)))\n",
        "from fast_ml.feature_engineering import FeatureEngineering_DateTime\n",
        "dt_encoder = FeatureEngineering_DateTime()\n",
        "\n",
        "#Scikit-learn type fit() transform() functionality\n",
        "# Use fit() only on the train dataset\n",
        "dt_encoder.fit(x_train, ['Date'], prefix = 'default')\n",
        "\n",
        "# Use transform() on train/test dataset\n",
        "x_train = dt_encoder.transform(x_train)\n",
        "x_valid = dt_encoder.transform(x_valid)"
      ],
      "execution_count": null,
      "outputs": []
    },
    {
      "cell_type": "code",
      "metadata": {
        "id": "dHIYC0JU8xWE",
        "colab_type": "code",
        "colab": {}
      },
      "source": [
        ""
      ],
      "execution_count": null,
      "outputs": []
    },
    {
      "cell_type": "code",
      "metadata": {
        "id": "hNJVvX1S8xWF",
        "colab_type": "code",
        "colab": {}
      },
      "source": [
        ""
      ],
      "execution_count": null,
      "outputs": []
    },
    {
      "cell_type": "code",
      "metadata": {
        "id": "pcXb2ftcBupa",
        "colab_type": "code",
        "colab": {}
      },
      "source": [
        ""
      ],
      "execution_count": null,
      "outputs": []
    },
    {
      "cell_type": "code",
      "metadata": {
        "id": "15vrsEQzB8sc",
        "colab_type": "code",
        "colab": {}
      },
      "source": [
        "x_train"
      ],
      "execution_count": null,
      "outputs": []
    },
    {
      "cell_type": "code",
      "metadata": {
        "id": "IYcmqAb3CIEf",
        "colab_type": "code",
        "colab": {}
      },
      "source": [
        "x_valid"
      ],
      "execution_count": null,
      "outputs": []
    },
    {
      "cell_type": "markdown",
      "metadata": {
        "id": "qXH6akT9Lp7E",
        "colab_type": "text"
      },
      "source": [
        "# using gridserch cv/randomsearchv\n"
      ]
    },
    {
      "cell_type": "code",
      "metadata": {
        "id": "9hOQviHxXyvV",
        "colab_type": "code",
        "colab": {}
      },
      "source": [
        "from sklearn.model_selection import GridSearchCV,RandomizedSearchCV\n",
        "from sklearn.metrics import accuracy_score, recall_score, classification_report, confusion_matrix, roc_curve, auc\n",
        "import lightgbm as lgbm\n",
        "from sklearn import metrics "
      ],
      "execution_count": 39,
      "outputs": []
    },
    {
      "cell_type": "code",
      "metadata": {
        "id": "4e_pwwe1eo2n",
        "colab_type": "code",
        "colab": {}
      },
      "source": [
        "dtrain = lgbm.Dataset(x_train, label=y_train)\n",
        "dval = lgbm.Dataset(x_valid, label=y_valid)"
      ],
      "execution_count": 40,
      "outputs": []
    },
    {
      "cell_type": "markdown",
      "metadata": {
        "id": "FJ5jwWOPac2a",
        "colab_type": "text"
      },
      "source": [
        "classlightgbm.LGBMClassifier(boosting_type='gbdt', num_leaves=31, max_depth=- 1, learning_rate=0.1, n_estimators=100, subsample_for_bin=200000, objective=None, class_weight=None, min_split_gain=0.0, min_child_weight=0.001, min_child_samples=20, subsample=1.0, subsample_freq=0, colsample_bytree=1.0, reg_alpha=0.0, reg_lambda=0.0, random_state=None, n_jobs=- 1, silent=True, importance_type='split', **kwargs)[source]"
      ]
    },
    {
      "cell_type": "code",
      "metadata": {
        "id": "k0zSfFbJYiNG",
        "colab_type": "code",
        "colab": {
          "base_uri": "https://localhost:8080/",
          "height": 119
        },
        "outputId": "1119e910-aba2-42d1-99c3-3bfd98706070"
      },
      "source": [
        "clf_LGBM = lgbm.LGBMClassifier(objective='binary')\n",
        "clf_LGBM.fit(x_train, y_train)"
      ],
      "execution_count": 41,
      "outputs": [
        {
          "output_type": "execute_result",
          "data": {
            "text/plain": [
              "LGBMClassifier(boosting_type='gbdt', class_weight=None, colsample_bytree=1.0,\n",
              "               importance_type='split', learning_rate=0.1, max_depth=-1,\n",
              "               min_child_samples=20, min_child_weight=0.001, min_split_gain=0.0,\n",
              "               n_estimators=100, n_jobs=-1, num_leaves=31, objective='binary',\n",
              "               random_state=None, reg_alpha=0.0, reg_lambda=0.0, silent=True,\n",
              "               subsample=1.0, subsample_for_bin=200000, subsample_freq=0)"
            ]
          },
          "metadata": {
            "tags": []
          },
          "execution_count": 41
        }
      ]
    },
    {
      "cell_type": "code",
      "metadata": {
        "id": "JassHZd_Ghbr",
        "colab_type": "code",
        "colab": {
          "base_uri": "https://localhost:8080/",
          "height": 204
        },
        "outputId": "52346bef-a403-4cde-9567-6cf08a3a9192"
      },
      "source": [
        "y_pred_train= clf_LGBM .predict(x_train)\n",
        "y_pred_valid= clf_LGBM .predict(x_valid)\n",
        "# Model Accuracy, how often is the classifier correct?\n",
        "\n",
        "print(\"Train Accuracy:\",metrics.accuracy_score(y_train, y_pred_train)) \n",
        "\n",
        "print(\"Valid Accuracy:\",metrics.accuracy_score(y_valid, y_pred_valid))  \n",
        "print(classification_report(y_valid, y_pred_valid))"
      ],
      "execution_count": 42,
      "outputs": [
        {
          "output_type": "stream",
          "text": [
            "Train Accuracy: 0.98365625\n",
            "Valid Accuracy: 0.9745025497450255\n",
            "              precision    recall  f1-score   support\n",
            "\n",
            "           0       0.98      1.00      0.99      9649\n",
            "           1       0.84      0.34      0.48       352\n",
            "\n",
            "    accuracy                           0.97     10001\n",
            "   macro avg       0.91      0.67      0.74     10001\n",
            "weighted avg       0.97      0.97      0.97     10001\n",
            "\n"
          ],
          "name": "stdout"
        }
      ]
    },
    {
      "cell_type": "code",
      "metadata": {
        "id": "bEGe-TR7gSR-",
        "colab_type": "code",
        "colab": {
          "base_uri": "https://localhost:8080/",
          "height": 119
        },
        "outputId": "413c64d1-b4af-4316-d508-53eefca10cde"
      },
      "source": [
        "clf_LGBM.best_score_\n",
        "clf_LGBM.get_params"
      ],
      "execution_count": 43,
      "outputs": [
        {
          "output_type": "execute_result",
          "data": {
            "text/plain": [
              "<bound method LGBMModel.get_params of LGBMClassifier(boosting_type='gbdt', class_weight=None, colsample_bytree=1.0,\n",
              "               importance_type='split', learning_rate=0.1, max_depth=-1,\n",
              "               min_child_samples=20, min_child_weight=0.001, min_split_gain=0.0,\n",
              "               n_estimators=100, n_jobs=-1, num_leaves=31, objective='binary',\n",
              "               random_state=None, reg_alpha=0.0, reg_lambda=0.0, silent=True,\n",
              "               subsample=1.0, subsample_for_bin=200000, subsample_freq=0)>"
            ]
          },
          "metadata": {
            "tags": []
          },
          "execution_count": 43
        }
      ]
    },
    {
      "cell_type": "code",
      "metadata": {
        "id": "c-oyMbHCzEQW",
        "colab_type": "code",
        "colab": {}
      },
      "source": [
        "litraincolOrg = x_train.columns\n",
        "livalidcolOrg = x_valid.columns"
      ],
      "execution_count": 44,
      "outputs": []
    },
    {
      "cell_type": "code",
      "metadata": {
        "id": "sYdDOnVkh-RD",
        "colab_type": "code",
        "colab": {
          "base_uri": "https://localhost:8080/",
          "height": 1000
        },
        "outputId": "64d6a7e0-dccb-4351-8dd7-af375e2d6349"
      },
      "source": [
        "fi=pd.DataFrame({'cols' : litraincolOrg, 'imp' : clf_LGBM.feature_importances_})\n",
        "fi = fi.sort_values('imp', ascending=False)\n",
        "top_50 = fi[0:50]\n",
        "top_50 = top_50.sort_values('imp', ascending=True)\n",
        "# Plot the bar chart\n",
        "top_50.plot(x='cols', kind='barh' , figsize=(15,18))\n",
        "plt.show()"
      ],
      "execution_count": 45,
      "outputs": [
        {
          "output_type": "display_data",
          "data": {
            "image/png": "[encoded data removed]",
            "text/plain": [
              "<Figure size 1080x1296 with 1 Axes>"
            ]
          },
          "metadata": {
            "tags": [],
            "needs_background": "light"
          }
        }
      ]
    },
    {
      "cell_type": "markdown",
      "metadata": {
        "id": "VjU6-ZYVzWg_",
        "colab_type": "text"
      },
      "source": [
        "Using  GridSearchCv \n"
      ]
    },
    {
      "cell_type": "code",
      "metadata": {
        "colab_type": "code",
        "id": "FJ4Yys7T4gWi",
        "colab": {
          "base_uri": "https://localhost:8080/",
          "height": 170
        },
        "outputId": "6d50e46d-ef42-4564-e325-8691691c8946"
      },
      "source": [
        "param_grid = {\n",
        "    'n_estimators': [500, 600],\n",
        "    'colsample_bytree': [ 0.8, 1],\n",
        "    'learning_rate': [0.1,0.2],\n",
        "    'max_depth': [15,20,25],\n",
        "    'num_leaves': [50, 100, 200],\n",
        "    'reg_alpha': [1.1, 1.2, 1.3],\n",
        "    'reg_lambda': [1.1, 1.2],\n",
        "    'min_split_gain': [0.3, 0.4],\n",
        "    'subsample': [0.7, 0.8, 0.9, ],\n",
        "    'min_child_samples': [10,20],\n",
        "    'subsample_freq': [20,30]\n",
        "    \n",
        "    \n",
        "}\n",
        "clf_LGBM = lgbm.LGBMClassifier(objective='binary',is_unbalance= True)\n",
        "\n",
        "\n",
        "grid_search_lgbm= GridSearchCV(estimator = clf_LGBM, param_grid = param_grid,\n",
        "                          cv = 3, n_jobs = -1, verbose = 2)\n",
        "\n",
        "\n",
        "# Fit the grid search to the data \n",
        "grid_search_lgbm.fit(x_train, y_train)\n",
        "grid_search_lgbm.best_params_\n",
        "\n",
        "best_grid_lgbm = grid_search_lgbm.best_estimator_\n",
        "\n",
        "\n",
        "y_pred_train_grid_rf= grid_search_lgbm .predict(x_train)\n",
        "y_pred_grid_valid_rf= grid_search_lgbm .predict(x_valid)\n",
        "# Model Accuracy, how often is the classifier correct?\n",
        "\n",
        "print(\"Train Accuracy:\",metrics.accuracy_score(y_train, y_pred_train_grid_rf)) \n",
        "\n",
        "print(\"Test Accuracy:\",metrics.accuracy_score(y_valid, y_pred_valid_train_rf))  \n",
        "print(classification_report(y_valid, y_pred_grid_valid_rf))"
      ],
      "execution_count": null,
      "outputs": [
        {
          "output_type": "stream",
          "text": [
            "Fitting 3 folds for each of 10368 candidates, totalling 31104 fits\n"
          ],
          "name": "stdout"
        },
        {
          "output_type": "stream",
          "text": [
            "[Parallel(n_jobs=-1)]: Using backend LokyBackend with 2 concurrent workers.\n",
            "[Parallel(n_jobs=-1)]: Done  37 tasks      | elapsed:  6.4min\n",
            "[Parallel(n_jobs=-1)]: Done 158 tasks      | elapsed: 25.3min\n",
            "[Parallel(n_jobs=-1)]: Done 361 tasks      | elapsed: 57.4min\n",
            "[Parallel(n_jobs=-1)]: Done 644 tasks      | elapsed: 105.2min\n",
            "[Parallel(n_jobs=-1)]: Done 1009 tasks      | elapsed: 159.6min\n",
            "[Parallel(n_jobs=-1)]: Done 1454 tasks      | elapsed: 230.9min\n",
            "[Parallel(n_jobs=-1)]: Done 1981 tasks      | elapsed: 316.4min\n"
          ],
          "name": "stderr"
        }
      ]
    },
    {
      "cell_type": "markdown",
      "metadata": {
        "id": "LwUbVGbYbO34",
        "colab_type": "text"
      },
      "source": [
        " 1.  DataFrame.dtypes for data must be int, float or bool.\n",
        "Did not expect the data types in fields ProductCD, card4, card6, P_emaildomain, R_emaildomain, M1, M2, M3, M4, M5, M6, M7, M8, M9\n",
        "2.  not able to define class_weight"
      ]
    },
    {
      "cell_type": "code",
      "metadata": {
        "id": "Tlsj0CG3_qa_",
        "colab_type": "code",
        "colab": {
          "base_uri": "https://localhost:8080/",
          "height": 255
        },
        "outputId": "a5ce6051-fefd-45f4-b8ba-e2600b11f3fe"
      },
      "source": [
        "param_grid1= {\n",
        "    'n_estimators': [200, 500],\n",
        "    'colsample_bytree': [0.7, 0.8, 1.0],\n",
        "    'learning_rate': [0.1,0.2],\n",
        "    'max_depth': [15,20],\n",
        "    'num_leaves': [50, 100, 150],\n",
        "    'reg_alpha': [1.1, 1.2],\n",
        "    'reg_lambda': [1.1, 1.2],\n",
        "    'min_split_gain': [0.3, 0.4],\n",
        "    'subsample': [ 0.8, 0.9 ],\n",
        "    'min_child_samples': [10,20],\n",
        "    'subsample_freq': [20,30]\n",
        "  \n",
        "    \n",
        "}\n",
        "clf_LGBM1 = lgbm.LGBMClassifier(objective='binary',is_unbalance= True)\n",
        "\n",
        "\n",
        "grid_search_lgbm1= RandomizedSearchCV(estimator = clf_LGBM1,  param_distributions= param_grid1, n_iter = 10,\n",
        "                          cv = 3, n_jobs = -1, verbose = 2, random_state=100 )\n",
        "\n",
        "\n",
        "# Fit the grid search to the data \n",
        "grid_search_lgbm1.fit(x_train, y_train)\n",
        "grid_search_lgbm1.best_params_\n",
        "\n",
        "best_grid_lgbm1 = grid_search_lgbm1.best_estimator_\n",
        "\n",
        "\n",
        "y_pred_train_grid_rf1= grid_search_lgbm1 .predict(x_train)\n",
        "y_pred_grid_valid_rf1= grid_search_lgbm1 .predict(x_valid)\n",
        "# Model Accuracy, how often is the classifier correct?\n",
        "\n",
        "print(\"Train Accuracy:\",metrics.accuracy_score(y_train, y_pred_train_grid_rf1)) \n",
        "\n",
        "print(\"Valid Accuracy:\",metrics.accuracy_score(y_valid, y_pred_grid_valid_rf1))  \n",
        "print(classification_report(y_valid, y_pred_grid_valid_rf1))"
      ],
      "execution_count": 46,
      "outputs": [
        {
          "output_type": "stream",
          "text": [
            "Fitting 3 folds for each of 10 candidates, totalling 30 fits\n"
          ],
          "name": "stdout"
        },
        {
          "output_type": "stream",
          "text": [
            "[Parallel(n_jobs=-1)]: Using backend LokyBackend with 2 concurrent workers.\n",
            "[Parallel(n_jobs=-1)]: Done  30 out of  30 | elapsed:  3.5min finished\n"
          ],
          "name": "stderr"
        },
        {
          "output_type": "stream",
          "text": [
            "Train Accuracy: 0.99621875\n",
            "Valid Accuracy: 0.9673032696730327\n",
            "              precision    recall  f1-score   support\n",
            "\n",
            "           0       0.98      0.98      0.98      9649\n",
            "           1       0.54      0.50      0.52       352\n",
            "\n",
            "    accuracy                           0.97     10001\n",
            "   macro avg       0.76      0.74      0.75     10001\n",
            "weighted avg       0.97      0.97      0.97     10001\n",
            "\n"
          ],
          "name": "stdout"
        }
      ]
    },
    {
      "cell_type": "code",
      "metadata": {
        "id": "bziBhoX6-oai",
        "colab_type": "code",
        "colab": {
          "base_uri": "https://localhost:8080/",
          "height": 136
        },
        "outputId": "be3c160a-7189-4289-a29a-9c42fb439cff"
      },
      "source": [
        "best_grid_lgbm1"
      ],
      "execution_count": 47,
      "outputs": [
        {
          "output_type": "execute_result",
          "data": {
            "text/plain": [
              "LGBMClassifier(boosting_type='gbdt', class_weight=None, colsample_bytree=1.0,\n",
              "               importance_type='split', is_unbalance=True, learning_rate=0.1,\n",
              "               max_depth=15, min_child_samples=20, min_child_weight=0.001,\n",
              "               min_split_gain=0.3, n_estimators=200, n_jobs=-1, num_leaves=150,\n",
              "               objective='binary', random_state=None, reg_alpha=1.1,\n",
              "               reg_lambda=1.2, silent=True, subsample=0.8,\n",
              "               subsample_for_bin=200000, subsample_freq=20)"
            ]
          },
          "metadata": {
            "tags": []
          },
          "execution_count": 47
        }
      ]
    },
    {
      "cell_type": "markdown",
      "metadata": {
        "id": "_X6vdqhByqFF",
        "colab_type": "text"
      },
      "source": [
        "best of RandomSearchcv parameters"
      ]
    },
    {
      "cell_type": "code",
      "metadata": {
        "id": "EURGs2-T-4CL",
        "colab_type": "code",
        "colab": {
          "base_uri": "https://localhost:8080/",
          "height": 204
        },
        "outputId": "8f2b7b87-e402-45db-aa3c-8f2bde19e90a"
      },
      "source": [
        "clf_LGBM2 = lgbm.LGBMClassifier(boosting_type='gbdt', class_weight=None, colsample_bytree=1.0,\n",
        "               importance_type='split', is_unbalance=True, learning_rate=0.1,\n",
        "               max_depth=15, min_child_samples=20, min_child_weight=0.001,\n",
        "               min_split_gain=0.3, n_estimators=200, n_jobs=-1, num_leaves=150,\n",
        "               objective='binary', random_state=None, reg_alpha=1.1,\n",
        "               reg_lambda=1.2, silent=True, subsample=0.8,\n",
        "               subsample_for_bin=200000, subsample_freq=20)\n",
        "\n",
        "# Fit the grid search to the data \n",
        "clf_LGBM2.fit(x_train, y_train)\n",
        "\n",
        "# best_grid_lgbm1 = grid_search_lgbm1.best_estimator_\n",
        "\n",
        "\n",
        "y_pred_train_grid_rf2= clf_LGBM2 .predict(x_train)\n",
        "y_pred_grid_valid_rf2= clf_LGBM2 .predict(x_valid)\n",
        "# Model Accuracy, how often is the classifier correct?\n",
        "\n",
        "print(\"Train Accuracy:\",metrics.accuracy_score(y_train, y_pred_train_grid_rf2)) \n",
        "\n",
        "print(\"Test Accuracy:\",metrics.accuracy_score(y_valid, y_pred_grid_valid_rf2))  \n",
        "print(classification_report(y_valid, y_pred_grid_valid_rf2))"
      ],
      "execution_count": 48,
      "outputs": [
        {
          "output_type": "stream",
          "text": [
            "Train Accuracy: 0.99621875\n",
            "Test Accuracy: 0.9673032696730327\n",
            "              precision    recall  f1-score   support\n",
            "\n",
            "           0       0.98      0.98      0.98      9649\n",
            "           1       0.54      0.50      0.52       352\n",
            "\n",
            "    accuracy                           0.97     10001\n",
            "   macro avg       0.76      0.74      0.75     10001\n",
            "weighted avg       0.97      0.97      0.97     10001\n",
            "\n"
          ],
          "name": "stdout"
        }
      ]
    },
    {
      "cell_type": "code",
      "metadata": {
        "id": "aCYZcGOZpBjs",
        "colab_type": "code",
        "colab": {}
      },
      "source": [
        "litraincolOrg = x_train.columns\n",
        "livalidcolOrg = x_valid.columns"
      ],
      "execution_count": 49,
      "outputs": []
    },
    {
      "cell_type": "code",
      "metadata": {
        "id": "iHnM_TUegzM0",
        "colab_type": "code",
        "colab": {
          "base_uri": "https://localhost:8080/",
          "height": 1000
        },
        "outputId": "5ec7751b-2834-4647-fae1-0dbd4c015fd6"
      },
      "source": [
        "fi=pd.DataFrame({'cols' : litraincolOrg, 'imp' : clf_LGBM2.feature_importances_})\n",
        "fi = fi.sort_values('imp', ascending=False)\n",
        "top_50 = fi[0:50]\n",
        "top_50 = top_50.sort_values('imp', ascending=True)\n",
        "# Plot the bar chart\n",
        "top_50.plot(x='cols', kind='barh' , figsize=(15,18))\n",
        "plt.show()"
      ],
      "execution_count": 50,
      "outputs": [
        {
          "output_type": "display_data",
          "data": {
            "image/png": "[encoded data removed]",
            "text/plain": [
              "<Figure size 1080x1296 with 1 Axes>"
            ]
          },
          "metadata": {
            "tags": [],
            "needs_background": "light"
          }
        }
      ]
    }
  ]
}